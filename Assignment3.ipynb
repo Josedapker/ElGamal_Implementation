{
  "nbformat": 4,
  "nbformat_minor": 0,
  "metadata": {
    "colab": {
      "provenance": [],
      "authorship_tag": "ABX9TyNwkT0JOo5az6WtaA3eg77w",
      "include_colab_link": true
    },
    "kernelspec": {
      "name": "python3",
      "display_name": "Python 3"
    },
    "language_info": {
      "name": "python"
    }
  },
  "cells": [
    {
      "cell_type": "markdown",
      "metadata": {
        "id": "view-in-github",
        "colab_type": "text"
      },
      "source": [
        "<a href=\"https://colab.research.google.com/github/Josedapker/ElGamal_Implementation/blob/main/Assignment3.ipynb\" target=\"_parent\"><img src=\"https://colab.research.google.com/assets/colab-badge.svg\" alt=\"Open In Colab\"/></a>"
      ]
    },
    {
      "cell_type": "code",
      "execution_count": null,
      "metadata": {
        "colab": {
          "base_uri": "https://localhost:8080/"
        },
        "id": "lVRCiWLHQ_vt",
        "outputId": "284f2b55-3796-485f-b55e-b2bb1f454f9d"
      },
      "outputs": [
        {
          "output_type": "stream",
          "name": "stdout",
          "text": [
            "Please enter the base: 35739\n",
            "Please enter the exponent: 2718\n",
            "Please enter the modulus: 35\n",
            "Your result is:  1\n"
          ]
        }
      ],
      "source": [
        "\n",
        "\n",
        "base = int(input(\"Please enter the base: \"))\n",
        "exponent = int(input(\"Please enter the exponent: \"))\n",
        "modulus = int(input(\"Please enter the modulus: \"))\n",
        "\n",
        "def square_and_multiply(base, exponent, modulus):\n",
        "    # Convert exponent to binary\n",
        "    binary_exponent = bin(exponent)[2:]\n",
        "    \n",
        "    # Initialize result variable to 1\n",
        "    result = 1\n",
        "    \n",
        "    # Iterate over binary exponent from most significant bit\n",
        "    for bit in binary_exponent:\n",
        "        # Square result variable\n",
        "        result = (result * result) % modulus\n",
        "        \n",
        "        # Multiply by base if current bit is 1\n",
        "        if bit == '1':\n",
        "            result = (result * base) % modulus\n",
        "    \n",
        "    return result\n",
        "\n",
        "print(\"Your result is: \", square_and_multiply(base, exponent, modulus))\n"
      ]
    }
  ]
}