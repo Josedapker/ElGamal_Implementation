{
  "nbformat": 4,
  "nbformat_minor": 0,
  "metadata": {
    "colab": {
      "provenance": [],
      "authorship_tag": "ABX9TyM3eFk0p5Hs5FUHM8+Ads/g",
      "include_colab_link": true
    },
    "kernelspec": {
      "name": "python3",
      "display_name": "Python 3"
    },
    "language_info": {
      "name": "python"
    }
  },
  "cells": [
    {
      "cell_type": "markdown",
      "metadata": {
        "id": "view-in-github",
        "colab_type": "text"
      },
      "source": [
        "<a href=\"https://colab.research.google.com/github/Josedapker/ElGamal_Implementation/blob/main/Assignment3.ipynb\" target=\"_parent\"><img src=\"https://colab.research.google.com/assets/colab-badge.svg\" alt=\"Open In Colab\"/></a>"
      ]
    },
    {
      "cell_type": "code",
      "execution_count": null,
      "metadata": {
        "id": "lVRCiWLHQ_vt"
      },
      "outputs": [],
      "source": [
        "\n",
        "\n",
        "base = int(input(\"Please enter the base: \"))\n",
        "exponent = int(input(\"Please enter the exponent: \"))\n",
        "modulus = int(input(\"Please enter the modulus: \"))\n",
        "\n",
        "def square_and_multiply(base, exponent, modulus):\n",
        "    # Convert exponent to binary\n",
        "    binary_exponent = bin(exponent)[2:]\n",
        "    \n",
        "    # Initialize result variable to 1\n",
        "    result = 1\n",
        "    \n",
        "    # Iterate over binary exponent from most significant bit\n",
        "    for bit in binary_exponent:\n",
        "        # Square result variable\n",
        "        result = (result * result) % modulus\n",
        "        \n",
        "        # Multiply by base if current bit is 1\n",
        "        if bit == '1':\n",
        "            result = (result * base) % modulus\n",
        "    \n",
        "    return result\n",
        "\n",
        "print(\"Your result is: \", square_and_multiply(base, exponent, modulus))\n"
      ]
    },
    {
      "cell_type": "code",
      "source": [
        "#fermats\n",
        "\n",
        "import random\n",
        "\n",
        "def is_prime(n, k=10):\n",
        "    if n <= 1:\n",
        "        return False\n",
        "    elif n <= 3:\n",
        "        return True\n",
        "    else:\n",
        "        # Run the test k times\n",
        "        for _ in range(k):\n",
        "            # Choose a random integer a between 1 and n-1\n",
        "            a = random.randint(1, n-1)\n",
        "            \n",
        "            # Compute a^(n-1) mod n\n",
        "            if pow(a, n-1, n) != 1:\n",
        "                return False\n",
        "        \n",
        "        # If we get here, the number is likely prime\n",
        "        return True\n",
        "is_prime(103)"
      ],
      "metadata": {
        "colab": {
          "base_uri": "https://localhost:8080/"
        },
        "id": "P9E0bqmNZziD",
        "outputId": "ed75ccd1-2790-4758-f9f3-ee8e887ccfd4"
      },
      "execution_count": 9,
      "outputs": [
        {
          "output_type": "execute_result",
          "data": {
            "text/plain": [
              "True"
            ]
          },
          "metadata": {},
          "execution_count": 9
        }
      ]
    },
    {
      "cell_type": "code",
      "source": [],
      "metadata": {
        "id": "ABpVr71_cPv5"
      },
      "execution_count": null,
      "outputs": []
    },
    {
      "cell_type": "code",
      "source": [],
      "metadata": {
        "id": "WJicedXZcQE8"
      },
      "execution_count": null,
      "outputs": []
    }
  ]
}